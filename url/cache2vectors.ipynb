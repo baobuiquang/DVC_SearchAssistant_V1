{
 "cells": [
  {
   "cell_type": "markdown",
   "metadata": {},
   "source": [
    "# 1. raw -> cache"
   ]
  },
  {
   "cell_type": "code",
   "execution_count": 1,
   "metadata": {},
   "outputs": [],
   "source": [
    "import csv\n",
    "\n",
    "# Step 1\n",
    "def extract_and_save_to_csv(input_file, output_file):\n",
    "    with open(input_file, 'r', encoding='utf-8') as file:\n",
    "        lines = file.readlines()\n",
    "    lines = [line.strip() for line in lines if line.strip()]\n",
    "    items = [lines[i:i+6] for i in range(0, len(lines), 6)]\n",
    "    headers = [\"STT\", \"Mã chuẩn\", \"Tên thủ tục\", \"Lĩnh vực\", \"Cơ quan thực hiện\", \"Mức độ\"]\n",
    "    with open(output_file, 'w', newline='', encoding='utf-8') as csvfile:\n",
    "        writer = csv.writer(csvfile)\n",
    "        writer.writerow(headers)\n",
    "        writer.writerows(items)\n",
    "extract_and_save_to_csv(\"raw\", \"cache\")\n",
    "\n",
    "# Step 2\n",
    "with open('cache', mode='r', newline='', encoding='utf-8') as f:\n",
    "    thutucs = list(csv.DictReader(f))\n",
    "    thutucs = sorted(thutucs, key=lambda e: len(e[\"Tên thủ tục\"]))\n",
    "with open('cache', mode='w', newline='', encoding='utf-8') as f:\n",
    "    fieldnames = thutucs[0].keys()\n",
    "    writer = csv.DictWriter(f, fieldnames=fieldnames)\n",
    "    writer.writeheader()\n",
    "    writer.writerows(thutucs)"
   ]
  },
  {
   "cell_type": "markdown",
   "metadata": {},
   "source": [
    "# 2. cache -> vectors"
   ]
  },
  {
   "cell_type": "code",
   "execution_count": 2,
   "metadata": {},
   "outputs": [],
   "source": [
    "from sentence_transformers import SentenceTransformer\n",
    "import numpy as np\n",
    "import csv\n",
    "import os\n",
    "\n",
    "model_1 = SentenceTransformer(\"sentence-transformers/paraphrase-multilingual-mpnet-base-v2\")\n",
    "\n",
    "with open('cache', mode='r', newline='', encoding='utf-8') as f:\n",
    "    thutucs = list(csv.DictReader(f))\n",
    "sentences = [e[\"Tên thủ tục\"] for e in thutucs]"
   ]
  },
  {
   "cell_type": "markdown",
   "metadata": {},
   "source": [
    "### 2.1. Pre-calculate embeddings"
   ]
  },
  {
   "cell_type": "code",
   "execution_count": null,
   "metadata": {},
   "outputs": [],
   "source": [
    "vectors_1 = model_1.encode(sentences)\n",
    "np.save(\"vectors\", vectors_1)\n",
    "os.rename(\"vectors.npy\", \"vectors\")"
   ]
  },
  {
   "cell_type": "markdown",
   "metadata": {},
   "source": [
    "### 2.2. Load and use embeddings"
   ]
  },
  {
   "cell_type": "code",
   "execution_count": null,
   "metadata": {},
   "outputs": [],
   "source": [
    "vectors_1 = np.load(\"vectors\")"
   ]
  },
  {
   "cell_type": "code",
   "execution_count": null,
   "metadata": {},
   "outputs": [],
   "source": [
    "test_questions = [\n",
    "\"sắp khởi nghiệp cần giấy tờ gì?\",\n",
    "\"tôi muốn mua đất thì cần làm gì?\",\n",
    "\"tôi sắp cưới vợ thì phải làm như nào?\",\n",
    "\"tôi sắp lập gia đình thì cần làm gì?\",\n",
    "\"vợ tôi sắp sinh con thủ tục nào?\",\n",
    "\"thủ tục xây nhà cấp 3, 4?\",\n",
    "\"phúc khảo bài thi thpt?\",\n",
    "]\n",
    "\n",
    "for question in test_questions:\n",
    "    print(\"-\"*100)\n",
    "    print(f\"> {question}\")\n",
    "    q_emb = model_1.encode(question)\n",
    "    similarities = model_1.similarity(q_emb, vectors_1)[0]\n",
    "    top_5_idx = sorted(range(len(similarities)), key=lambda i: similarities[i], reverse=True)[:5]\n",
    "    for idx in top_5_idx:\n",
    "        print(sentences[idx])"
   ]
  }
 ],
 "metadata": {
  "kernelspec": {
   "display_name": "venv",
   "language": "python",
   "name": "python3"
  },
  "language_info": {
   "codemirror_mode": {
    "name": "ipython",
    "version": 3
   },
   "file_extension": ".py",
   "mimetype": "text/x-python",
   "name": "python",
   "nbconvert_exporter": "python",
   "pygments_lexer": "ipython3",
   "version": "3.10.10"
  }
 },
 "nbformat": 4,
 "nbformat_minor": 2
}
