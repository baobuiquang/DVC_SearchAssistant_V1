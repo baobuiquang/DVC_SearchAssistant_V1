{
 "cells": [
  {
   "cell_type": "markdown",
   "metadata": {},
   "source": [
    "# Pre-calculate embeddings"
   ]
  },
  {
   "cell_type": "code",
   "execution_count": null,
   "metadata": {},
   "outputs": [],
   "source": [
    "from sentence_transformers import SentenceTransformer\n",
    "import numpy as np\n",
    "import csv\n",
    "\n",
    "model = SentenceTransformer(\"intfloat/multilingual-e5-base\")\n",
    "# model = SentenceTransformer(\"sentence-transformers/paraphrase-multilingual-mpnet-base-v2\")\n",
    "\n",
    "with open('url/cache', mode='r', newline='', encoding='utf-8') as f:\n",
    "    thutucs = csv.DictReader(f)\n",
    "    thutucs = sorted(thutucs, key=lambda e: len(e[\"Tên thủ tục\"]))\n",
    "sentences = [e[\"Tên thủ tục\"] for e in thutucs]\n",
    "\n",
    "embeddings = model.encode(sentences)\n",
    "np.save(\"url/vector.npy\", embeddings)"
   ]
  },
  {
   "cell_type": "markdown",
   "metadata": {},
   "source": [
    "# Load and use embeddings"
   ]
  },
  {
   "cell_type": "code",
   "execution_count": null,
   "metadata": {},
   "outputs": [],
   "source": [
    "from sentence_transformers import SentenceTransformer\n",
    "import numpy as np\n",
    "import csv\n",
    "\n",
    "model = SentenceTransformer(\"intfloat/multilingual-e5-base\")\n",
    "# model = SentenceTransformer(\"sentence-transformers/paraphrase-multilingual-mpnet-base-v2\")\n",
    "\n",
    "with open('url/cache', mode='r', newline='', encoding='utf-8') as f:\n",
    "    thutucs = csv.DictReader(f)\n",
    "    thutucs = sorted(thutucs, key=lambda e: len(e[\"Tên thủ tục\"]))\n",
    "sentences = [e[\"Tên thủ tục\"] for e in thutucs]\n",
    "\n",
    "embeddings = np.load(\"url/vector.npy\")"
   ]
  },
  {
   "cell_type": "code",
   "execution_count": null,
   "metadata": {},
   "outputs": [],
   "source": [
    "test_questions = [\n",
    "\"sắp khởi nghiệp cần giấy tờ gì?\",\n",
    "\"tôi muốn mua đất thì cần làm gì?\",\n",
    "\"tôi sắp cưới vợ thì phải làm như nào?\",\n",
    "\"tôi sắp lập gia đình thì cần làm gì?\",\n",
    "\"vợ tôi sắp sinh con thủ tục nào?\",\n",
    "\"thủ tục xây nhà cấp 3, 4?\",\n",
    "\"phúc khảo bài thi thpt?\",\n",
    "]\n",
    "\n",
    "for question in test_questions:\n",
    "    print(\"-\"*100)\n",
    "    print(f\"> {question}\")\n",
    "    q_emb = model.encode(question)\n",
    "    similarities = model.similarity(q_emb, embeddings)[0]\n",
    "    top_5_idx = sorted(range(len(similarities)), key=lambda i: similarities[i], reverse=True)[:5]\n",
    "    for idx in top_5_idx:\n",
    "        print(sentences[idx])"
   ]
  }
 ],
 "metadata": {
  "kernelspec": {
   "display_name": "venv",
   "language": "python",
   "name": "python3"
  },
  "language_info": {
   "codemirror_mode": {
    "name": "ipython",
    "version": 3
   },
   "file_extension": ".py",
   "mimetype": "text/x-python",
   "name": "python",
   "nbconvert_exporter": "python",
   "pygments_lexer": "ipython3",
   "version": "3.10.10"
  }
 },
 "nbformat": 4,
 "nbformat_minor": 2
}
