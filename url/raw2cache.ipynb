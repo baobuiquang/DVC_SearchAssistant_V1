{
 "cells": [
  {
   "cell_type": "code",
   "execution_count": 1,
   "metadata": {},
   "outputs": [],
   "source": [
    "import csv\n",
    "\n",
    "def extract_and_save_to_csv(input_file, output_file):\n",
    "    with open(input_file, 'r', encoding='utf-8') as file:\n",
    "        lines = file.readlines()\n",
    "    # Ensure lines are stripped of whitespace\n",
    "    lines = [line.strip() for line in lines if line.strip()]\n",
    "    # Group lines into chunks of 6 (each chunk represents an item)\n",
    "    items = [lines[i:i+6] for i in range(0, len(lines), 6)]\n",
    "    # Define CSV headers\n",
    "    headers = [\"STT\", \"Mã chuẩn\", \"Tên thủ tục\", \"Lĩnh vực\", \"Cơ quan thực hiện\", \"Mức độ\"]\n",
    "    # Write to CSV file\n",
    "    with open(output_file, 'w', newline='', encoding='utf-8') as csvfile:\n",
    "        writer = csv.writer(csvfile)\n",
    "        writer.writerow(headers)  # Write the headers\n",
    "        writer.writerows(items)   # Write the data\n",
    "\n",
    "input_txt_file = \"raw\"\n",
    "output_csv_file = \"cache.csv\"\n",
    "extract_and_save_to_csv(input_txt_file, output_csv_file)"
   ]
  }
 ],
 "metadata": {
  "kernelspec": {
   "display_name": "venv",
   "language": "python",
   "name": "python3"
  },
  "language_info": {
   "codemirror_mode": {
    "name": "ipython",
    "version": 3
   },
   "file_extension": ".py",
   "mimetype": "text/x-python",
   "name": "python",
   "nbconvert_exporter": "python",
   "pygments_lexer": "ipython3",
   "version": "3.10.10"
  }
 },
 "nbformat": 4,
 "nbformat_minor": 2
}
