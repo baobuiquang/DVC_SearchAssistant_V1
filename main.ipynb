{
 "cells": [
  {
   "cell_type": "code",
   "execution_count": null,
   "metadata": {},
   "outputs": [],
   "source": [
    "# from sentence_transformers import SentenceTransformer\n",
    "\n",
    "# # model = SentenceTransformer(\"intfloat/multilingual-e5-base\")\n",
    "# model = SentenceTransformer(\"sentence-transformers/paraphrase-multilingual-mpnet-base-v2\")\n",
    "\n",
    "# string1 = \"The weather is lovely today.\"\n",
    "# string2 = \"It's so sunny outside!\"\n",
    "\n",
    "# embeddings = model.encode([string1, string2])\n",
    "\n",
    "# similarity = model.similarity(embeddings[0], embeddings[1])\n",
    "\n",
    "# print(f\"Similarity: {similarity}\")"
   ]
  }
 ],
 "metadata": {
  "kernelspec": {
   "display_name": "venv",
   "language": "python",
   "name": "python3"
  },
  "language_info": {
   "codemirror_mode": {
    "name": "ipython",
    "version": 3
   },
   "file_extension": ".py",
   "mimetype": "text/x-python",
   "name": "python",
   "nbconvert_exporter": "python",
   "pygments_lexer": "ipython3",
   "version": "3.10.10"
  }
 },
 "nbformat": 4,
 "nbformat_minor": 2
}
