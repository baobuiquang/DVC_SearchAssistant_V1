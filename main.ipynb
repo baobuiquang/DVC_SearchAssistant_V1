{
 "cells": [
  {
   "cell_type": "code",
   "execution_count": null,
   "metadata": {},
   "outputs": [],
   "source": [
    "from sentence_transformers import SentenceTransformer\n",
    "import numpy as np\n",
    "import csv\n",
    "import os"
   ]
  },
  {
   "cell_type": "markdown",
   "metadata": {},
   "source": [
    "# Pre-process"
   ]
  },
  {
   "cell_type": "code",
   "execution_count": null,
   "metadata": {},
   "outputs": [],
   "source": [
    "def raw2cache(raw_path, cache_path):\n",
    "    # Step 1\n",
    "    with open(raw_path, 'r', encoding='utf-8') as f1:\n",
    "        lines = f1.readlines()\n",
    "        lines = [line.strip() for line in lines if line.strip()]\n",
    "        items = [lines[i:i+6] for i in range(0, len(lines), 6)]\n",
    "        headers = [\"STT\", \"Mã chuẩn\", \"Tên thủ tục\", \"Lĩnh vực\", \"Cơ quan thực hiện\", \"Mức độ\"]\n",
    "        with open(cache_path, 'w', newline='', encoding='utf-8') as f2:\n",
    "            writer = csv.writer(f2)\n",
    "            writer.writerow(headers)\n",
    "            writer.writerows(items)\n",
    "    # Step 2\n",
    "    with open(cache_path, mode='r', newline='', encoding='utf-8') as f:\n",
    "        thutucs = list(csv.DictReader(f))\n",
    "        thutucs = sorted(thutucs, key=lambda e: len(e[\"Tên thủ tục\"]))\n",
    "    with open(cache_path, mode='w', newline='', encoding='utf-8') as f:\n",
    "        fieldnames = thutucs[0].keys()\n",
    "        writer = csv.DictWriter(f, fieldnames=fieldnames)\n",
    "        writer.writeheader()\n",
    "        writer.writerows(thutucs)\n",
    "\n",
    "raw2cache(\"url/raw\", \"url/cache\")"
   ]
  },
  {
   "cell_type": "code",
   "execution_count": null,
   "metadata": {},
   "outputs": [],
   "source": [
    "model_e5 = SentenceTransformer(\"onelevelstudio/M-E5-BASE\")\n",
    "model_mpnet = SentenceTransformer(\"onelevelstudio/M-MPNET-BASE\")"
   ]
  },
  {
   "cell_type": "code",
   "execution_count": null,
   "metadata": {},
   "outputs": [],
   "source": [
    "with open('url/cache', mode='r', newline='', encoding='utf-8') as f:\n",
    "    thutucs = list(csv.DictReader(f))\n",
    "    tenthutucs = [e[\"Tên thủ tục\"] for e in thutucs]"
   ]
  },
  {
   "cell_type": "code",
   "execution_count": null,
   "metadata": {},
   "outputs": [],
   "source": [
    "# Option 1: Re-vectorize embeddings\n",
    "embs_e5    = model_e5.encode(tenthutucs)\n",
    "embs_mpnet = model_mpnet.encode(tenthutucs)\n",
    "np.save(\"url/embs_e5\", embs_e5)\n",
    "np.save(\"url/embs_mpnet\", embs_mpnet)\n",
    "os.rename(\"url/embs_e5.npy\", \"url/embs_e5\")\n",
    "os.rename(\"url/embs_mpnet.npy\", \"url/embs_mpnet\")\n",
    "\n",
    "# Option 2: Load pre-vectorized embeddings\n",
    "embs_e5 = np.load(\"url/embs_e5\")\n",
    "embs_mpnet = np.load(\"url/embs_mpnet\")"
   ]
  },
  {
   "cell_type": "markdown",
   "metadata": {},
   "source": [
    "# Main Process"
   ]
  },
  {
   "cell_type": "code",
   "execution_count": null,
   "metadata": {},
   "outputs": [],
   "source": []
  }
 ],
 "metadata": {
  "kernelspec": {
   "display_name": "venv",
   "language": "python",
   "name": "python3"
  },
  "language_info": {
   "codemirror_mode": {
    "name": "ipython",
    "version": 3
   },
   "file_extension": ".py",
   "mimetype": "text/x-python",
   "name": "python",
   "nbconvert_exporter": "python",
   "pygments_lexer": "ipython3",
   "version": "3.10.10"
  }
 },
 "nbformat": 4,
 "nbformat_minor": 2
}
