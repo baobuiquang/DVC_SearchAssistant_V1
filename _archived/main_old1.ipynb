{
 "cells": [
  {
   "cell_type": "code",
   "execution_count": 1,
   "metadata": {},
   "outputs": [],
   "source": [
    "from underthesea import text_normalize, word_tokenize\n",
    "from LLM import Process_LLM\n",
    "import requests\n",
    "import csv\n",
    "import re\n",
    "\n",
    "stopwords = []\n",
    "with requests.get(\"https://raw.githubusercontent.com/OneLevelStudio/stopwords/refs/heads/main/vi.txt\") as r:\n",
    "    if r.status_code != 200:\n",
    "        raise ValueError(\"Error:\", r.status_code, r.text)\n",
    "    else:\n",
    "        stopwords = r.text.split(\"\\n\")\n",
    "specialchars = ['!', '\"', '#', '$', '%', '&', \"'\", '(', ')', '*', '+', ',', '-', '.', '..', '...', '/', ':', ';', '<', '=', '>', '?', '@', '[', '\\\\', ']', '^', '_', '`', '{', '|', '}', '~']\n",
    "\n",
    "def is_number(s):\n",
    "    return bool(re.fullmatch(r'[\\d,. ]+', s))\n",
    "\n",
    "def extract_keywords(s):\n",
    "    s = text_normalize(s)\n",
    "    words = word_tokenize(s)\n",
    "    words = [w.lower() for w in words]\n",
    "    words = list(set(words))\n",
    "    words = [w for w in words if not is_number(w)]\n",
    "    # words = [w for w in words if w not in stopwords]\n",
    "    words = [w for w in words if w not in specialchars]\n",
    "    return words\n",
    "\n",
    "with open('url/cache', mode='r', newline='', encoding='utf-8') as f:\n",
    "    csv_reader = csv.DictReader(f)\n",
    "    thutuchanhchinhs = [row for row in csv_reader]\n",
    "    thutuchanhchinhs = sorted(thutuchanhchinhs, key=lambda item: len(item[\"Tên thủ tục\"]))\n",
    "    for i in range(len(thutuchanhchinhs)):\n",
    "        thutuchanhchinhs[i]['keywords'] = extract_keywords(thutuchanhchinhs[i]['Tên thủ tục'] + \"\\n\" + thutuchanhchinhs[i]['Lĩnh vực'])"
   ]
  },
  {
   "cell_type": "code",
   "execution_count": 2,
   "metadata": {},
   "outputs": [],
   "source": [
    "test_str = [\n",
    "\"tôi sắp lập gia đình\",\n",
    "\"tôi sắp lập gia đình thì cần làm gì\",\n",
    "\"sắp khởi nghiệp thì cần thủ tục gì\",\n",
    "\"khởi nghiệp cần giấy tờ gì\",\n",
    "\"giấy chứng nhận đăng ký doanh nghiệp\",\n",
    "\"kết hôn thủ tục nào\",\n",
    "\"giấy tờ liên quan đến trung học phổ thông\",\n",
    "\"sinh con thủ tục nào\",\n",
    "\"đất đai\",\n",
    "\"thủ tục xây nhà cấp 3, 4\",\n",
    "\"xây dựng công trình cấp 3, 4\",\n",
    "\"phúc khảo bài thi thpt\",\n",
    "]"
   ]
  },
  {
   "cell_type": "code",
   "execution_count": 3,
   "metadata": {},
   "outputs": [
    {
     "name": "stdout",
     "output_type": "stream",
     "text": [
      "tôi sắp lập gia đình\n",
      "**Đăng ký kết hôn**\n",
      "\n",
      "['đăng ký', 'kết hôn']\n",
      "Thủ tục đăng ký kết hôn\n",
      "Thủ tục đăng ký lại kết hôn\n",
      "Thủ tục đăng ký kết hôn lưu động\n",
      "Thủ tục đăng ký kết hôn có yếu tố nước ngoài\n",
      "Thủ tục đăng ký lại kết hôn có yếu tố nước ngoài\n"
     ]
    }
   ],
   "source": [
    "question = test_str[0]\n",
    "\n",
    "prompt = f\"\"\"\\\n",
    "Tôi có câu hỏi \"{question}\".\n",
    "Tôi muốn tìm kiếm thủ tục hành chính liên quan, giúp tôi liệt kê 1 từ khoá quan trọng nhất để tìm kiếm, không trả lời dài dòng.\n",
    "\"\"\"\n",
    "\n",
    "res = Process_LLM(prompt, vendor=\"openrouter\")\n",
    "q_keywords = extract_keywords(res)\n",
    "print(question)\n",
    "print(res)\n",
    "print(q_keywords)\n",
    "\n",
    "\n",
    "thutuc_counts = []\n",
    "max_count = -1\n",
    "for thutuc in thutuchanhchinhs:\n",
    "    count = 0\n",
    "    for k in q_keywords:\n",
    "        if k in thutuc[\"keywords\"]:\n",
    "            count += 1\n",
    "    if count > max_count:\n",
    "        max_count = count\n",
    "    thutuc_counts.append(count)\n",
    "\n",
    "for idx, count in enumerate(thutuc_counts):\n",
    "    if count == max_count:\n",
    "        print(thutuchanhchinhs[idx][\"Tên thủ tục\"])"
   ]
  }
 ],
 "metadata": {
  "kernelspec": {
   "display_name": "venv",
   "language": "python",
   "name": "python3"
  },
  "language_info": {
   "codemirror_mode": {
    "name": "ipython",
    "version": 3
   },
   "file_extension": ".py",
   "mimetype": "text/x-python",
   "name": "python",
   "nbconvert_exporter": "python",
   "pygments_lexer": "ipython3",
   "version": "3.10.10"
  }
 },
 "nbformat": 4,
 "nbformat_minor": 2
}
